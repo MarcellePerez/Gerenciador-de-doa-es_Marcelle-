{
 "cells": [
  {
   "cell_type": "markdown",
   "id": "fcbe0b0b",
   "metadata": {},
   "source": [
    "# 📘 Projeto de Programação Orientada a Objetos – 2º Bimestre\n",
    "\n",
    "**Nome do Aluno:** Marcelle dos Santos da Silva Perez                    \n",
    "\n",
    "**Turma:** 2aTI\n",
    "\n",
    "**Tema Escolhido:** Sistema de Doações\n"
   ]
  },
  {
   "cell_type": "markdown",
   "id": "47e697ce",
   "metadata": {},
   "source": [
    "Lembre-se esse projeto deve ser personalizado, todas as classe e metodos devem ter uma referencia ao seu nome, exemplo:\n",
    "\n",
    "class Carro_Fabio:\n",
    "\n",
    "    def __init__(self, tipo, cor, rodas):\n",
    "        self.tipo = tipo\n",
    "        self.cor = cor\n",
    "        self.rodas = rodas\n",
    "        \n",
    "    def alterar_cor_Fabio(self, nova_cor):\n",
    "        self.cor = nova_cor\n",
    "        return self.cor\n",
    "    "
   ]
  },
  {
   "cell_type": "markdown",
   "id": "bf0b9458",
   "metadata": {},
   "source": [
    "## PARTE 1 – Classe Principal e Objetos\n",
    "\n",
    "**Tarefas:**\n",
    "- Definir e criar a classe principal com pelo menos 3 atributos.\n",
    "- Implementar o método construtor (`__init__`).\n",
    "- Criar pelo menos 2 objetos da classe principal.\n",
    "- Implementar um método de exibição de dados.\n",
    "\n",
    "**Código:**"
   ]
  },
  {
   "cell_type": "code",
   "execution_count": null,
   "id": "5721fa89",
   "metadata": {},
   "outputs": [],
   "source": [
    "# Desenvolva aqui o código da Parte 1\n",
    "class Doacao:\n",
    "    def __init__(self, doador, valor, data):\n",
    "        self.doador = doador        # Nome de quem doou\n",
    "        self.valor = valor          # Valor da doação\n",
    "        self.data = data            # Data da doação\n",
    " # Método para exibir os dados da doação\n",
    "    def exibir_dados(self):\n",
    "        print(f\"--- Doação ---\")\n",
    "        print(f\"Doador: {self.doador}\")\n",
    "        print(f\"Valor: R${self.valor:.2f}\")\n",
    "        print(f\"Data: {self.data}\")    \n",
    " "
   ]
  },
  {
   "cell_type": "markdown",
   "id": "f2cf3375",
   "metadata": {},
   "source": [
    "## PARTE 2 – Métodos e Herança\n",
    "\n",
    "**Tarefas:**\n",
    "- Criar pelo menos 2 métodos de ação para a classe principal.\n",
    "- Criar uma subclasse herdando da classe principal.\n",
    "- Adicionar pelo menos 1 novo atributo e 1 novo método exclusivo na subclasse.\n",
    "- Utilizar `super()` no construtor da subclasse.\n",
    "\n",
    "**Código:**"
   ]
  },
  {
   "cell_type": "code",
   "execution_count": 2,
   "id": "5f456eb1",
   "metadata": {},
   "outputs": [],
   "source": [
    "# Desenvolva aqui o código da Parte 2\n",
    "class Doacao:\n",
    "    def __init__(self, doador, valor, data):\n",
    "        self.doador = doador\n",
    "        self.valor = valor\n",
    "        self.data = data\n",
    "\n",
    "    def exibir_dados(self):\n",
    "        print(f\"--- Doação ---\")\n",
    "        print(f\"Doador: {self.doador}\")\n",
    "        print(f\"Valor: R${self.valor:.2f}\")\n",
    "        print(f\"Data: {self.data}\")\n",
    "\n",
    "    # Método 1: Aumentar o valor da doação\n",
    "    def aumentar_valor(self, adicional):\n",
    "        self.valor += adicional\n",
    "        print(f\"Novo valor da doação: R${self.valor:.2f}\")\n",
    "\n",
    "    # Método 2: Verificar se a doação é considerada \"alta\"\n",
    "    def doacao_generosa(self):\n",
    "        return self.valor >= 500\n",
    "class DoacaoEmpresa(Doacao):\n",
    "    def __init__(self, doador, valor, data, cnpj):\n",
    "        super().__init__(doador, valor, data)  # Chamada ao construtor da superclasse\n",
    "        self.cnpj = cnpj                       # Novo atributo exclusivo da subclasse\n",
    "\n",
    "    # Novo método exclusivo: validar o CNPJ (simples, só como exemplo)\n",
    "    def validar_cnpj(self):\n",
    "        return len(self.cnpj) == 14 and self.cnpj.isdigit()\n",
    "\n",
    "    # Sobrescrevendo o método de exibição para incluir CNPJ\n",
    "    def exibir_dados(self):\n",
    "        super().exibir_dados()\n",
    "        print(f\"CNPJ: {self.cnpj}\")\n",
    "                \n"
   ]
  },
  {
   "cell_type": "markdown",
   "id": "3e0a77b0",
   "metadata": {},
   "source": [
    "## PARTE 3 – Encapsulamento e Abstração\n",
    "\n",
    "**Tarefas:**\n",
    "- Tornar pelo menos 1 atributo da classe principal privado (`__atributo`).\n",
    "- Criar métodos `get` e `set` para o atributo privado.\n",
    "- Implementar um método que contenha lógica interna (ex: cálculo, verificação).\n",
    "\n",
    "**Código:**"
   ]
  },
  {
   "cell_type": "code",
   "execution_count": 3,
   "id": "0bdb445e",
   "metadata": {},
   "outputs": [],
   "source": [
    "# Desenvolva aqui o código da Parte 3\n",
    "## PARTE 3 – Encapsulamento e Abstração\n",
    "\n",
    "class Doacao:\n",
    "    def __init__(self, doador, valor, data):\n",
    "        self.doador = doador\n",
    "        self.__valor = valor      # Atributo privado\n",
    "        self.data = data\n",
    "\n",
    "    def exibir_dados(self):\n",
    "        print(f\"--- Doação ---\")\n",
    "        print(f\"Doador: {self.doador}\")\n",
    "        print(f\"Valor: R${self.__valor:.2f}\")\n",
    "        print(f\"Data: {self.data}\")\n",
    "\n",
    "    # Getter para o atributo privado __valor\n",
    "    def get_valor(self):\n",
    "        return self.__valor\n",
    "\n",
    "    # Setter para o atributo privado __valor\n",
    "    def set_valor(self, novo_valor):\n",
    "        if novo_valor >= 0:\n",
    "            self.__valor = novo_valor\n",
    "        else:\n",
    "            print(\"Erro: Valor da doação não pode ser negativo.\")\n",
    "\n",
    "    # Método com lógica interna: calcular taxa administrativa (ex: 5% da doação)\n",
    "    def calcular_taxa(self):\n",
    "        taxa = self.__valor * 0.05\n",
    "        print(f\"Taxa administrativa (5%): R${taxa:.2f}\")\n",
    "        return taxa"
   ]
  },
  {
   "cell_type": "markdown",
   "id": "fb9df3e9",
   "metadata": {},
   "source": [
    "## PARTE 4 – Polimorfismo e Banco de Dados\n",
    "\n",
    "**Tarefas:**\n",
    "- Implementar polimorfismo: sobrescrever um método na subclasse.\n",
    "- Integrar o sistema com banco de dados (MySQL ou SQLite).\n",
    "- Implementar inserção (INSERT), consulta (SELECT) e exclusão (DELETE) de registros no banco de dados.\n",
    "\n",
    "**Código:**"
   ]
  },
  {
   "cell_type": "code",
   "execution_count": 4,
   "id": "56a4c46a",
   "metadata": {},
   "outputs": [],
   "source": [
    "# Desenvolva aqui o código da Parte 4\n",
    "class DoacaoEmpresa(Doacao):\n",
    "    def __init__(self, doador, valor, data, cnpj):\n",
    "        super().__init__(doador, valor, data)\n",
    "        self.cnpj = cnpj\n",
    "\n",
    "    def exibir_dados(self):\n",
    "        print(f\"--- Doação de Empresa ---\")\n",
    "        print(f\"Empresa: {self.doador}\")\n",
    "        print(f\"CNPJ: {self.cnpj}\")\n",
    "        print(f\"Valor: R${self.get_valor():.2f}\")\n",
    "        print(f\"Data: {self.data}\") \n",
    "\n",
    "    def inserir_doacao(doador, valor, data):\n",
    "    cursor.execute(\"INSERT INTO doacoes (doador, valor, data) VALUES (?, ?, ?)\", (doador, valor, data))\n",
    "    conexao.commit()   \n",
    "    def consultar_doacoes():\n",
    "    cursor.execute(\"SELECT * FROM doacoes\")\n",
    "    resultados = cursor.fetchall()\n",
    "    for linha in resultados:\n",
    "        print(f\"ID: {linha[0]}, Doador: {linha[1]}, Valor: R${linha[2]:.2f}, Data: {linha[3]}\")\n",
    "    def excluir_doacao(id_doacao):\n",
    "    cursor.execute(\"DELETE FROM doacoes WHERE id = ?\", (id_doacao,))\n",
    "    conexao.commit()     "
   ]
  },
  {
   "cell_type": "markdown",
   "id": "d8bbf974",
   "metadata": {},
   "source": [
    "## PARTE 5 – Projeto Final e Organização\n",
    "\n",
    "**Tarefas:**\n",
    "- Consolidar todas as partes do projeto em um único script organizado.\n",
    "- Comentar o código explicando cada parte.\n",
    "- Testar todas as funcionalidades.\n",
    "\n",
    "**Código:**"
   ]
  },
  {
   "cell_type": "code",
   "execution_count": null,
   "id": "54b3cdd7",
   "metadata": {},
   "outputs": [],
   "source": [
    "# Desenvolva aqui o código da Parte 5\n"
   ]
  }
 ],
 "metadata": {
  "kernelspec": {
   "display_name": "Python 3 (ipykernel)",
   "language": "python",
   "name": "python3"
  },
  "language_info": {
   "codemirror_mode": {
    "name": "ipython",
    "version": 3
   },
   "file_extension": ".py",
   "mimetype": "text/x-python",
   "name": "python",
   "nbconvert_exporter": "python",
   "pygments_lexer": "ipython3",
   "version": "3.9.13"
  }
 },
 "nbformat": 4,
 "nbformat_minor": 5
}
